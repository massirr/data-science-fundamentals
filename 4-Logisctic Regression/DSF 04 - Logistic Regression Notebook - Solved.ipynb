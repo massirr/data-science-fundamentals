{
 "cells": [
  {
   "cell_type": "markdown",
   "metadata": {},
   "source": [
    "# Chapter 4: Logistic Regression 📊\n",
    "\n",
    "## Learning Objectives 🎯\n",
    "By the end of this chapter, you will be able to:\n",
    "- Understand when to use logistic regression instead of linear regression\n",
    "- Build models for classification problems (predicting categories)\n",
    "- Apply logistic regression to identify handwritten digits\n",
    "- Evaluate classification models using multiple metrics\n",
    "- Interpret confusion matrixes and other evaluation tools\n",
    "\n",
    "This chapter introduces you to your first classification algorithm - a fundamental tool for many real-world applications!"
   ]
  },
  {
   "cell_type": "code",
   "execution_count": 2,
   "metadata": {},
   "outputs": [
    {
     "name": "stdout",
     "output_type": "stream",
     "text": [
      "Requirement already satisfied: scikit-learn in /Users/koze/anaconda3/envs/jupyterlab-env/lib/python3.11/site-packages (1.6.1)\n",
      "Requirement already satisfied: numpy in /Users/koze/anaconda3/envs/jupyterlab-env/lib/python3.11/site-packages (2.2.4)\n",
      "Requirement already satisfied: matplotlib in /Users/koze/anaconda3/envs/jupyterlab-env/lib/python3.11/site-packages (3.10.1)\n",
      "Requirement already satisfied: seaborn in /Users/koze/anaconda3/envs/jupyterlab-env/lib/python3.11/site-packages (0.13.2)\n",
      "Requirement already satisfied: imbalanced-learn in /Users/koze/anaconda3/envs/jupyterlab-env/lib/python3.11/site-packages (0.14.0)\n",
      "Requirement already satisfied: scipy>=1.6.0 in /Users/koze/anaconda3/envs/jupyterlab-env/lib/python3.11/site-packages (from scikit-learn) (1.15.2)\n",
      "Requirement already satisfied: joblib>=1.2.0 in /Users/koze/anaconda3/envs/jupyterlab-env/lib/python3.11/site-packages (from scikit-learn) (1.4.2)\n",
      "Requirement already satisfied: threadpoolctl>=3.1.0 in /Users/koze/anaconda3/envs/jupyterlab-env/lib/python3.11/site-packages (from scikit-learn) (3.6.0)\n",
      "Requirement already satisfied: contourpy>=1.0.1 in /Users/koze/anaconda3/envs/jupyterlab-env/lib/python3.11/site-packages (from matplotlib) (1.3.1)\n",
      "Requirement already satisfied: cycler>=0.10 in /Users/koze/anaconda3/envs/jupyterlab-env/lib/python3.11/site-packages (from matplotlib) (0.12.1)\n",
      "Requirement already satisfied: fonttools>=4.22.0 in /Users/koze/anaconda3/envs/jupyterlab-env/lib/python3.11/site-packages (from matplotlib) (4.57.0)\n",
      "Requirement already satisfied: kiwisolver>=1.3.1 in /Users/koze/anaconda3/envs/jupyterlab-env/lib/python3.11/site-packages (from matplotlib) (1.4.8)\n",
      "Requirement already satisfied: packaging>=20.0 in /Users/koze/anaconda3/envs/jupyterlab-env/lib/python3.11/site-packages (from matplotlib) (24.2)\n",
      "Requirement already satisfied: pillow>=8 in /Users/koze/anaconda3/envs/jupyterlab-env/lib/python3.11/site-packages (from matplotlib) (11.1.0)\n",
      "Requirement already satisfied: pyparsing>=2.3.1 in /Users/koze/anaconda3/envs/jupyterlab-env/lib/python3.11/site-packages (from matplotlib) (3.2.3)\n",
      "Requirement already satisfied: python-dateutil>=2.7 in /Users/koze/anaconda3/envs/jupyterlab-env/lib/python3.11/site-packages (from matplotlib) (2.9.0.post0)\n",
      "Requirement already satisfied: pandas>=1.2 in /Users/koze/anaconda3/envs/jupyterlab-env/lib/python3.11/site-packages (from seaborn) (2.2.3)\n",
      "Requirement already satisfied: pytz>=2020.1 in /Users/koze/anaconda3/envs/jupyterlab-env/lib/python3.11/site-packages (from pandas>=1.2->seaborn) (2025.2)\n",
      "Requirement already satisfied: tzdata>=2022.7 in /Users/koze/anaconda3/envs/jupyterlab-env/lib/python3.11/site-packages (from pandas>=1.2->seaborn) (2025.2)\n",
      "Requirement already satisfied: six>=1.5 in /Users/koze/anaconda3/envs/jupyterlab-env/lib/python3.11/site-packages (from python-dateutil>=2.7->matplotlib) (1.16.0)\n",
      "Note: you may need to restart the kernel to use updated packages.\n"
     ]
    }
   ],
   "source": [
    "# Install missing packages\n",
    "%pip install scikit-learn numpy matplotlib seaborn imbalanced-learn\n",
    "\n",
    "# Suppress warnings about low memory\n",
    "low_memory=False\n",
    "\n",
    "# Import required packages\n",
    "from sklearn import datasets\n",
    "import numpy as np \n",
    "import matplotlib.pyplot as plt\n",
    "import seaborn as sns\n",
    "import imblearn\n",
    "from sklearn import metrics\n",
    "from sklearn.model_selection import train_test_split\n",
    "from sklearn.linear_model import LogisticRegression\n",
    "from sklearn.metrics import classification_report\n",
    "from sklearn.metrics import accuracy_score\n",
    "from imblearn.metrics import specificity_score\n",
    "from sklearn.metrics import recall_score\n",
    "from sklearn.metrics import precision_score\n",
    "from sklearn.metrics import f1_score"
   ]
  },
  {
   "cell_type": "markdown",
   "metadata": {},
   "source": [
    "## 4.1 Introduction & Motivation"
   ]
  },
  {
   "cell_type": "markdown",
   "metadata": {},
   "source": [
    "## From Numbers to Categories: A New Challenge 🔄\n",
    "\n",
    "So far, we've focused on predicting continuous values (like prices, temperatures, or scores). But what if we need to predict categories instead?\n",
    "\n",
    "### Classification Problems in Real Life 🌍\n",
    "- Spam detection: Is this email spam or not? (Yes/No)\n",
    "- Medical diagnosis: Does this patient have a disease? (Yes/No)\n",
    "- Image recognition: What digit is in this image? (0-9)\n",
    "- Customer behavior: Will this customer buy our product? (Yes/No)\n",
    "\n",
    "### Why Linear Regression Won't Work 🚫\n",
    "\n",
    "Linear regression has a major problem with categories:\n",
    "- It can predict any number (like 2.7 or -10.5)\n",
    "- But categories need specific values (like 0 or 1)\n",
    "\n",
    "**Example:** If we're predicting gender (0=male, 1=female) using linear regression:\n",
    "- What does a prediction of 0.5 mean? 🤔\n",
    "- Or -0.3? Or 1.7?\n",
    "\n",
    "These values don't make sense for categories!\n",
    "\n",
    "### Enter Logistic Regression 🦸‍♀️\n",
    "Logistic regression solves this problem by:\n",
    "1. Taking our inputs as usual\n",
    "2. Running them through a special function\n",
    "3. Giving outputs that represent probabilities (0-1)\n",
    "4. Converting probabilities to specific categories"
   ]
  },
  {
   "cell_type": "markdown",
   "metadata": {},
   "source": [
    "## 4.2 Problem Setting"
   ]
  },
  {
   "cell_type": "markdown",
   "metadata": {},
   "source": [
    "### 🔢 The Handwritten Digit Recognition Challenge\n",
    "\n",
    "In this notebook, we'll tackle a classic problem in machine learning: recognizing handwritten digits.\n",
    "\n",
    "#### The Dataset 📚\n",
    "We'll use the digits dataset from scikit-learn, which contains:\n",
    "- Images of handwritten digits (0-9)\n",
    "- Each image is 8x8 pixels (simplified version of real handwriting)\n",
    "- Each pixel has a grayscale value (how dark/light it is)\n",
    "- Each image has a label telling us which digit it represents\n",
    "\n",
    "#### Why This Is a Classification Problem 🧩\n",
    "- We're predicting which digit category (0-9) the image belongs to\n",
    "- We have exactly 10 possible categories (multiclass classification)\n",
    "- We need to decide which single category fits best\n",
    "\n",
    "#### How We'll Approach This 🛣️\n",
    "1. Load the images and their labels\n",
    "2. Examine some sample images\n",
    "3. Train a logistic regression model\n",
    "4. Make predictions on new images\n",
    "5. Evaluate how well our model performs\n",
    "\n",
    "This is a perfect example of classification - we're sorting images into digit categories, not predicting continuous values!"
   ]
  },
  {
   "cell_type": "code",
   "execution_count": 3,
   "metadata": {},
   "outputs": [
    {
     "name": "stdout",
     "output_type": "stream",
     "text": [
      "Image Data Shape (1797, 64)\n",
      "Label Data Shape (1797,)\n"
     ]
    }
   ],
   "source": [
    "digits = datasets.load_digits()\n",
    "dir(digits)\n",
    "# data\n",
    "# Print to show there are 1797 images (8 by 8 images for a dimensionality of 64)\n",
    "print(\"Image Data Shape\" , digits.data.shape)\n",
    "# Print to show there are 1797 labels (integers from 0–9)\n",
    "print(\"Label Data Shape\", digits.target.shape)"
   ]
  },
  {
   "cell_type": "code",
   "execution_count": 4,
   "metadata": {},
   "outputs": [
    {
     "data": {
      "image/png": "[encoded data removed]",
      "text/plain": [
       "<Figure size 2000x400 with 5 Axes>"
      ]
     },
     "metadata": {},
     "output_type": "display_data"
    }
   ],
   "source": [
    "plt.figure(figsize=(20,4))\n",
    "for index, (image, label) in enumerate(zip(digits.data[0:5], digits.target[0:5])):\n",
    " plt.subplot(1, 5, index + 1)\n",
    " plt.imshow(np.reshape(image, (8,8)), cmap=plt.cm.gray)\n",
    " plt.title('Training: %i\\n' % label, fontsize = 20)"
   ]
  },
  {
   "cell_type": "markdown",
   "metadata": {},
   "source": [
    "## 4.3 Model"
   ]
  },
  {
   "cell_type": "markdown",
   "metadata": {},
   "source": [
    "### 4.3.1 Model"
   ]
  },
  {
   "cell_type": "markdown",
   "metadata": {},
   "source": [
    "### How Logistic Regression Works 🧠\n",
    "\n",
    "Let's explore how logistic regression transforms a linear model into something suitable for classification.\n",
    "\n",
    "#### Step 1: Start with Linear Regression ➡️\n",
    "Remember how linear regression works:\n",
    "- Take inputs (features)\n",
    "- Multiply by weights\n",
    "- Add a constant (bias)\n",
    "- Get a result that can be any number (-∞ to +∞)\n",
    "\n",
    "#### Step 2: Apply the Sigmoid Transformation 🔄\n",
    "For classification, we add one crucial step:\n",
    "- Take the linear regression output\n",
    "- Pass it through a special function called the sigmoid function\n",
    "- This converts any number into a value between 0 and 1\n",
    "- The result represents a probability\n",
    "\n",
    "The sigmoid function looks like an S-shaped curve:"
   ]
  },
  {
   "cell_type": "markdown",
   "metadata": {},
   "source": [
    "\n",
    "![](https://miro.medium.com/max/1400/1*RqXFpiNGwdiKBWyLJc_E7g.png)"
   ]
  },
  {
   "cell_type": "markdown",
   "metadata": {},
   "source": [
    "### Understanding the Sigmoid Function 📈\n",
    "\n",
    "The sigmoid function is the magic that makes logistic regression work for classification. Here's how to interpret it:\n",
    "\n",
    "#### Key Properties 🔑\n",
    "- Always outputs values between 0 and 1\n",
    "- S-shaped curve (smooth transition between extremes)\n",
    "- Center point at 0.5 probability\n",
    "- Steepest at the middle, flatter at extremes\n",
    "\n",
    "#### How to Interpret the Output 🧐\n",
    "\n",
    "In **binary classification** (two categories):\n",
    "- Output close to 0: High confidence in category 0\n",
    "- Output close to 1: High confidence in category 1\n",
    "- Output around 0.5: Uncertainty (could go either way)\n",
    "\n",
    "**Example:** Email Spam Detection\n",
    "- Input: Email features (words, sender, etc.)\n",
    "- Output: 0.92\n",
    "- Interpretation: 92% chance this is spam\n",
    "- Decision: Classify as spam (if threshold is 0.5)\n",
    "\n",
    "#### For Multiple Categories 🔢\n",
    "For problems with more than two categories (like our 10 digits):\n",
    "- We create multiple binary models (one-vs-rest approach)\n",
    "- Each model predicts probability for one digit\n",
    "- We choose the category with highest probability\n",
    "\n",
    "This approach lets us handle both simple yes/no problems and complex multi-category problems!"
   ]
  },
  {
   "cell_type": "markdown",
   "metadata": {},
   "source": [
    "### 4.3.2 Model Estimation"
   ]
  },
  {
   "cell_type": "markdown",
   "metadata": {},
   "source": [
    "To start off, we'll again divide our dataset into a test and a trainingset. This will allow us to evaluate the accuracy of our model later on:"
   ]
  },
  {
   "cell_type": "code",
   "execution_count": 5,
   "metadata": {},
   "outputs": [],
   "source": [
    "x_train, x_test, y_train, y_test = train_test_split(digits.data, digits.target, test_size=0.25, random_state=0)"
   ]
  },
  {
   "cell_type": "markdown",
   "metadata": {},
   "source": [
    "Next, we'll fit our model on the data.\n",
    "\n",
    "The first step is just making the model. This is done with several options. These refer to exactly which function we use to fit the data to, and which algorithm we use to fit our data to the chosen function. These options will be further elaborated on in the exercises."
   ]
  },
  {
   "cell_type": "code",
   "execution_count": 6,
   "metadata": {},
   "outputs": [
    {
     "data": {
      "text/html": [
       "<style>#sk-container-id-1 {\n",
       "  /* Definition of color scheme common for light and dark mode */\n",
       "  --sklearn-color-text: #000;\n",
       "  --sklearn-color-text-muted: #666;\n",
       "  --sklearn-color-line: gray;\n",
       "  /* Definition of color scheme for unfitted estimators */\n",
       "  --sklearn-color-unfitted-level-0: #fff5e6;\n",
       "  --sklearn-color-unfitted-level-1: #f6e4d2;\n",
       "  --sklearn-color-unfitted-level-2: #ffe0b3;\n",
       "  --sklearn-color-unfitted-level-3: chocolate;\n",
       "  /* Definition of color scheme for fitted estimators */\n",
       "  --sklearn-color-fitted-level-0: #f0f8ff;\n",
       "  --sklearn-color-fitted-level-1: #d4ebff;\n",
       "  --sklearn-color-fitted-level-2: #b3dbfd;\n",
       "  --sklearn-color-fitted-level-3: cornflowerblue;\n",
       "\n",
       "  /* Specific color for light theme */\n",
       "  --sklearn-color-text-on-default-background: var(--sg-text-color, var(--theme-code-foreground, var(--jp-content-font-color1, black)));\n",
       "  --sklearn-color-background: var(--sg-background-color, var(--theme-background, var(--jp-layout-color0, white)));\n",
       "  --sklearn-color-border-box: var(--sg-text-color, var(--theme-code-foreground, var(--jp-content-font-color1, black)));\n",
       "  --sklearn-color-icon: #696969;\n",
       "\n",
       "  @media (prefers-color-scheme: dark) {\n",
       "    /* Redefinition of color scheme for dark theme */\n",
       "    --sklearn-color-text-on-default-background: var(--sg-text-color, var(--theme-code-foreground, var(--jp-content-font-color1, white)));\n",
       "    --sklearn-color-background: var(--sg-background-color, var(--theme-background, var(--jp-layout-color0, #111)));\n",
       "    --sklearn-color-border-box: var(--sg-text-color, var(--theme-code-foreground, var(--jp-content-font-color1, white)));\n",
       "    --sklearn-color-icon: #878787;\n",
       "  }\n",
       "}\n",
       "\n",
       "#sk-container-id-1 {\n",
       "  color: var(--sklearn-color-text);\n",
       "}\n",
       "\n",
       "#sk-container-id-1 pre {\n",
       "  padding: 0;\n",
       "}\n",
       "\n",
       "#sk-container-id-1 input.sk-hidden--visually {\n",
       "  border: 0;\n",
       "  clip: rect(1px 1px 1px 1px);\n",
       "  clip: rect(1px, 1px, 1px, 1px);\n",
       "  height: 1px;\n",
       "  margin: -1px;\n",
       "  overflow: hidden;\n",
       "  padding: 0;\n",
       "  position: absolute;\n",
       "  width: 1px;\n",
       "}\n",
       "\n",
       "#sk-container-id-1 div.sk-dashed-wrapped {\n",
       "  border: 1px dashed var(--sklearn-color-line);\n",
       "  margin: 0 0.4em 0.5em 0.4em;\n",
       "  box-sizing: border-box;\n",
       "  padding-bottom: 0.4em;\n",
       "  background-color: var(--sklearn-color-background);\n",
       "}\n",
       "\n",
       "#sk-container-id-1 div.sk-container {\n",
       "  /* jupyter's `normalize.less` sets `[hidden] { display: none; }`\n",
       "     but bootstrap.min.css set `[hidden] { display: none !important; }`\n",
       "     so we also need the `!important` here to be able to override the\n",
       "     default hidden behavior on the sphinx rendered scikit-learn.org.\n",
       "     See: https://github.com/scikit-learn/scikit-learn/issues/21755 */\n",
       "  display: inline-block !important;\n",
       "  position: relative;\n",
       "}\n",
       "\n",
       "#sk-container-id-1 div.sk-text-repr-fallback {\n",
       "  display: none;\n",
       "}\n",
       "\n",
       "div.sk-parallel-item,\n",
       "div.sk-serial,\n",
       "div.sk-item {\n",
       "  /* draw centered vertical line to link estimators */\n",
       "  background-image: linear-gradient(var(--sklearn-color-text-on-default-background), var(--sklearn-color-text-on-default-background));\n",
       "  background-size: 2px 100%;\n",
       "  background-repeat: no-repeat;\n",
       "  background-position: center center;\n",
       "}\n",
       "\n",
       "/* Parallel-specific style estimator block */\n",
       "\n",
       "#sk-container-id-1 div.sk-parallel-item::after {\n",
       "  content: \"\";\n",
       "  width: 100%;\n",
       "  border-bottom: 2px solid var(--sklearn-color-text-on-default-background);\n",
       "  flex-grow: 1;\n",
       "}\n",
       "\n",
       "#sk-container-id-1 div.sk-parallel {\n",
       "  display: flex;\n",
       "  align-items: stretch;\n",
       "  justify-content: center;\n",
       "  background-color: var(--sklearn-color-background);\n",
       "  position: relative;\n",
       "}\n",
       "\n",
       "#sk-container-id-1 div.sk-parallel-item {\n",
       "  display: flex;\n",
       "  flex-direction: column;\n",
       "}\n",
       "\n",
       "#sk-container-id-1 div.sk-parallel-item:first-child::after {\n",
       "  align-self: flex-end;\n",
       "  width: 50%;\n",
       "}\n",
       "\n",
       "#sk-container-id-1 div.sk-parallel-item:last-child::after {\n",
       "  align-self: flex-start;\n",
       "  width: 50%;\n",
       "}\n",
       "\n",
       "#sk-container-id-1 div.sk-parallel-item:only-child::after {\n",
       "  width: 0;\n",
       "}\n",
       "\n",
       "/* Serial-specific style estimator block */\n",
       "\n",
       "#sk-container-id-1 div.sk-serial {\n",
       "  display: flex;\n",
       "  flex-direction: column;\n",
       "  align-items: center;\n",
       "  background-color: var(--sklearn-color-background);\n",
       "  padding-right: 1em;\n",
       "  padding-left: 1em;\n",
       "}\n",
       "\n",
       "\n",
       "/* Toggleable style: style used for estimator/Pipeline/ColumnTransformer box that is\n",
       "clickable and can be expanded/collapsed.\n",
       "- Pipeline and ColumnTransformer use this feature and define the default style\n",
       "- Estimators will overwrite some part of the style using the `sk-estimator` class\n",
       "*/\n",
       "\n",
       "/* Pipeline and ColumnTransformer style (default) */\n",
       "\n",
       "#sk-container-id-1 div.sk-toggleable {\n",
       "  /* Default theme specific background. It is overwritten whether we have a\n",
       "  specific estimator or a Pipeline/ColumnTransformer */\n",
       "  background-color: var(--sklearn-color-background);\n",
       "}\n",
       "\n",
       "/* Toggleable label */\n",
       "#sk-container-id-1 label.sk-toggleable__label {\n",
       "  cursor: pointer;\n",
       "  display: flex;\n",
       "  width: 100%;\n",
       "  margin-bottom: 0;\n",
       "  padding: 0.5em;\n",
       "  box-sizing: border-box;\n",
       "  text-align: center;\n",
       "  align-items: start;\n",
       "  justify-content: space-between;\n",
       "  gap: 0.5em;\n",
       "}\n",
       "\n",
       "#sk-container-id-1 label.sk-toggleable__label .caption {\n",
       "  font-size: 0.6rem;\n",
       "  font-weight: lighter;\n",
       "  color: var(--sklearn-color-text-muted);\n",
       "}\n",
       "\n",
       "#sk-container-id-1 label.sk-toggleable__label-arrow:before {\n",
       "  /* Arrow on the left of the label */\n",
       "  content: \"▸\";\n",
       "  float: left;\n",
       "  margin-right: 0.25em;\n",
       "  color: var(--sklearn-color-icon);\n",
       "}\n",
       "\n",
       "#sk-container-id-1 label.sk-toggleable__label-arrow:hover:before {\n",
       "  color: var(--sklearn-color-text);\n",
       "}\n",
       "\n",
       "/* Toggleable content - dropdown */\n",
       "\n",
       "#sk-container-id-1 div.sk-toggleable__content {\n",
       "  max-height: 0;\n",
       "  max-width: 0;\n",
       "  overflow: hidden;\n",
       "  text-align: left;\n",
       "  /* unfitted */\n",
       "  background-color: var(--sklearn-color-unfitted-level-0);\n",
       "}\n",
       "\n",
       "#sk-container-id-1 div.sk-toggleable__content.fitted {\n",
       "  /* fitted */\n",
       "  background-color: var(--sklearn-color-fitted-level-0);\n",
       "}\n",
       "\n",
       "#sk-container-id-1 div.sk-toggleable__content pre {\n",
       "  margin: 0.2em;\n",
       "  border-radius: 0.25em;\n",
       "  color: var(--sklearn-color-text);\n",
       "  /* unfitted */\n",
       "  background-color: var(--sklearn-color-unfitted-level-0);\n",
       "}\n",
       "\n",
       "#sk-container-id-1 div.sk-toggleable__content.fitted pre {\n",
       "  /* unfitted */\n",
       "  background-color: var(--sklearn-color-fitted-level-0);\n",
       "}\n",
       "\n",
       "#sk-container-id-1 input.sk-toggleable__control:checked~div.sk-toggleable__content {\n",
       "  /* Expand drop-down */\n",
       "  max-height: 200px;\n",
       "  max-width: 100%;\n",
       "  overflow: auto;\n",
       "}\n",
       "\n",
       "#sk-container-id-1 input.sk-toggleable__control:checked~label.sk-toggleable__label-arrow:before {\n",
       "  content: \"▾\";\n",
       "}\n",
       "\n",
       "/* Pipeline/ColumnTransformer-specific style */\n",
       "\n",
       "#sk-container-id-1 div.sk-label input.sk-toggleable__control:checked~label.sk-toggleable__label {\n",
       "  color: var(--sklearn-color-text);\n",
       "  background-color: var(--sklearn-color-unfitted-level-2);\n",
       "}\n",
       "\n",
       "#sk-container-id-1 div.sk-label.fitted input.sk-toggleable__control:checked~label.sk-toggleable__label {\n",
       "  background-color: var(--sklearn-color-fitted-level-2);\n",
       "}\n",
       "\n",
       "/* Estimator-specific style */\n",
       "\n",
       "/* Colorize estimator box */\n",
       "#sk-container-id-1 div.sk-estimator input.sk-toggleable__control:checked~label.sk-toggleable__label {\n",
       "  /* unfitted */\n",
       "  background-color: var(--sklearn-color-unfitted-level-2);\n",
       "}\n",
       "\n",
       "#sk-container-id-1 div.sk-estimator.fitted input.sk-toggleable__control:checked~label.sk-toggleable__label {\n",
       "  /* fitted */\n",
       "  background-color: var(--sklearn-color-fitted-level-2);\n",
       "}\n",
       "\n",
       "#sk-container-id-1 div.sk-label label.sk-toggleable__label,\n",
       "#sk-container-id-1 div.sk-label label {\n",
       "  /* The background is the default theme color */\n",
       "  color: var(--sklearn-color-text-on-default-background);\n",
       "}\n",
       "\n",
       "/* On hover, darken the color of the background */\n",
       "#sk-container-id-1 div.sk-label:hover label.sk-toggleable__label {\n",
       "  color: var(--sklearn-color-text);\n",
       "  background-color: var(--sklearn-color-unfitted-level-2);\n",
       "}\n",
       "\n",
       "/* Label box, darken color on hover, fitted */\n",
       "#sk-container-id-1 div.sk-label.fitted:hover label.sk-toggleable__label.fitted {\n",
       "  color: var(--sklearn-color-text);\n",
       "  background-color: var(--sklearn-color-fitted-level-2);\n",
       "}\n",
       "\n",
       "/* Estimator label */\n",
       "\n",
       "#sk-container-id-1 div.sk-label label {\n",
       "  font-family: monospace;\n",
       "  font-weight: bold;\n",
       "  display: inline-block;\n",
       "  line-height: 1.2em;\n",
       "}\n",
       "\n",
       "#sk-container-id-1 div.sk-label-container {\n",
       "  text-align: center;\n",
       "}\n",
       "\n",
       "/* Estimator-specific */\n",
       "#sk-container-id-1 div.sk-estimator {\n",
       "  font-family: monospace;\n",
       "  border: 1px dotted var(--sklearn-color-border-box);\n",
       "  border-radius: 0.25em;\n",
       "  box-sizing: border-box;\n",
       "  margin-bottom: 0.5em;\n",
       "  /* unfitted */\n",
       "  background-color: var(--sklearn-color-unfitted-level-0);\n",
       "}\n",
       "\n",
       "#sk-container-id-1 div.sk-estimator.fitted {\n",
       "  /* fitted */\n",
       "  background-color: var(--sklearn-color-fitted-level-0);\n",
       "}\n",
       "\n",
       "/* on hover */\n",
       "#sk-container-id-1 div.sk-estimator:hover {\n",
       "  /* unfitted */\n",
       "  background-color: var(--sklearn-color-unfitted-level-2);\n",
       "}\n",
       "\n",
       "#sk-container-id-1 div.sk-estimator.fitted:hover {\n",
       "  /* fitted */\n",
       "  background-color: var(--sklearn-color-fitted-level-2);\n",
       "}\n",
       "\n",
       "/* Specification for estimator info (e.g. \"i\" and \"?\") */\n",
       "\n",
       "/* Common style for \"i\" and \"?\" */\n",
       "\n",
       ".sk-estimator-doc-link,\n",
       "a:link.sk-estimator-doc-link,\n",
       "a:visited.sk-estimator-doc-link {\n",
       "  float: right;\n",
       "  font-size: smaller;\n",
       "  line-height: 1em;\n",
       "  font-family: monospace;\n",
       "  background-color: var(--sklearn-color-background);\n",
       "  border-radius: 1em;\n",
       "  height: 1em;\n",
       "  width: 1em;\n",
       "  text-decoration: none !important;\n",
       "  margin-left: 0.5em;\n",
       "  text-align: center;\n",
       "  /* unfitted */\n",
       "  border: var(--sklearn-color-unfitted-level-1) 1pt solid;\n",
       "  color: var(--sklearn-color-unfitted-level-1);\n",
       "}\n",
       "\n",
       ".sk-estimator-doc-link.fitted,\n",
       "a:link.sk-estimator-doc-link.fitted,\n",
       "a:visited.sk-estimator-doc-link.fitted {\n",
       "  /* fitted */\n",
       "  border: var(--sklearn-color-fitted-level-1) 1pt solid;\n",
       "  color: var(--sklearn-color-fitted-level-1);\n",
       "}\n",
       "\n",
       "/* On hover */\n",
       "div.sk-estimator:hover .sk-estimator-doc-link:hover,\n",
       ".sk-estimator-doc-link:hover,\n",
       "div.sk-label-container:hover .sk-estimator-doc-link:hover,\n",
       ".sk-estimator-doc-link:hover {\n",
       "  /* unfitted */\n",
       "  background-color: var(--sklearn-color-unfitted-level-3);\n",
       "  color: var(--sklearn-color-background);\n",
       "  text-decoration: none;\n",
       "}\n",
       "\n",
       "div.sk-estimator.fitted:hover .sk-estimator-doc-link.fitted:hover,\n",
       ".sk-estimator-doc-link.fitted:hover,\n",
       "div.sk-label-container:hover .sk-estimator-doc-link.fitted:hover,\n",
       ".sk-estimator-doc-link.fitted:hover {\n",
       "  /* fitted */\n",
       "  background-color: var(--sklearn-color-fitted-level-3);\n",
       "  color: var(--sklearn-color-background);\n",
       "  text-decoration: none;\n",
       "}\n",
       "\n",
       "/* Span, style for the box shown on hovering the info icon */\n",
       ".sk-estimator-doc-link span {\n",
       "  display: none;\n",
       "  z-index: 9999;\n",
       "  position: relative;\n",
       "  font-weight: normal;\n",
       "  right: .2ex;\n",
       "  padding: .5ex;\n",
       "  margin: .5ex;\n",
       "  width: min-content;\n",
       "  min-width: 20ex;\n",
       "  max-width: 50ex;\n",
       "  color: var(--sklearn-color-text);\n",
       "  box-shadow: 2pt 2pt 4pt #999;\n",
       "  /* unfitted */\n",
       "  background: var(--sklearn-color-unfitted-level-0);\n",
       "  border: .5pt solid var(--sklearn-color-unfitted-level-3);\n",
       "}\n",
       "\n",
       ".sk-estimator-doc-link.fitted span {\n",
       "  /* fitted */\n",
       "  background: var(--sklearn-color-fitted-level-0);\n",
       "  border: var(--sklearn-color-fitted-level-3);\n",
       "}\n",
       "\n",
       ".sk-estimator-doc-link:hover span {\n",
       "  display: block;\n",
       "}\n",
       "\n",
       "/* \"?\"-specific style due to the `<a>` HTML tag */\n",
       "\n",
       "#sk-container-id-1 a.estimator_doc_link {\n",
       "  float: right;\n",
       "  font-size: 1rem;\n",
       "  line-height: 1em;\n",
       "  font-family: monospace;\n",
       "  background-color: var(--sklearn-color-background);\n",
       "  border-radius: 1rem;\n",
       "  height: 1rem;\n",
       "  width: 1rem;\n",
       "  text-decoration: none;\n",
       "  /* unfitted */\n",
       "  color: var(--sklearn-color-unfitted-level-1);\n",
       "  border: var(--sklearn-color-unfitted-level-1) 1pt solid;\n",
       "}\n",
       "\n",
       "#sk-container-id-1 a.estimator_doc_link.fitted {\n",
       "  /* fitted */\n",
       "  border: var(--sklearn-color-fitted-level-1) 1pt solid;\n",
       "  color: var(--sklearn-color-fitted-level-1);\n",
       "}\n",
       "\n",
       "/* On hover */\n",
       "#sk-container-id-1 a.estimator_doc_link:hover {\n",
       "  /* unfitted */\n",
       "  background-color: var(--sklearn-color-unfitted-level-3);\n",
       "  color: var(--sklearn-color-background);\n",
       "  text-decoration: none;\n",
       "}\n",
       "\n",
       "#sk-container-id-1 a.estimator_doc_link.fitted:hover {\n",
       "  /* fitted */\n",
       "  background-color: var(--sklearn-color-fitted-level-3);\n",
       "}\n",
       "</style><div id=\"sk-container-id-1\" class=\"sk-top-container\"><div class=\"sk-text-repr-fallback\"><pre>LogisticRegression(max_iter=10000)</pre><b>In a Jupyter environment, please rerun this cell to show the HTML representation or trust the notebook. <br />On GitHub, the HTML representation is unable to render, please try loading this page with nbviewer.org.</b></div><div class=\"sk-container\" hidden><div class=\"sk-item\"><div class=\"sk-estimator fitted sk-toggleable\"><input class=\"sk-toggleable__control sk-hidden--visually\" id=\"sk-estimator-id-1\" type=\"checkbox\" checked><label for=\"sk-estimator-id-1\" class=\"sk-toggleable__label fitted sk-toggleable__label-arrow\"><div><div>LogisticRegression</div></div><div><a class=\"sk-estimator-doc-link fitted\" rel=\"noreferrer\" target=\"_blank\" href=\"https://scikit-learn.org/1.6/modules/generated/sklearn.linear_model.LogisticRegression.html\">?<span>Documentation for LogisticRegression</span></a><span class=\"sk-estimator-doc-link fitted\">i<span>Fitted</span></span></div></label><div class=\"sk-toggleable__content fitted\"><pre>LogisticRegression(max_iter=10000)</pre></div> </div></div></div></div>"
      ],
      "text/plain": [
       "LogisticRegression(max_iter=10000)"
      ]
     },
     "execution_count": 6,
     "metadata": {},
     "output_type": "execute_result"
    }
   ],
   "source": [
    "logisticRegr = LogisticRegression(max_iter=10000)\n",
    "logisticRegr.fit(x_train, y_train)"
   ]
  },
  {
   "cell_type": "markdown",
   "metadata": {},
   "source": [
    "Now we've made our classifier, we'll test if the predictions are any good by predicting the values of the test set."
   ]
  },
  {
   "cell_type": "code",
   "execution_count": 7,
   "metadata": {},
   "outputs": [
    {
     "name": "stdout",
     "output_type": "stream",
     "text": [
      "[2]\n",
      "[2 8 2 6 6 7 1 9 8 5]\n",
      "[2 8 2 6 6 7 1 9 8 5 2 8 6 6 6 6 1 0 5 8 8 7 8 4 7 5 4 9 2 9 4 7 6 8 9 4 3\n",
      " 1 0 1 8 6 7 7 1 0 7 6 2 1 9 6 7 9 0 0 9 1 6 3 0 2 3 4 1 9 2 6 9 1 8 3 5 1\n",
      " 2 8 2 2 9 7 2 3 6 0 5 3 7 5 1 2 9 9 3 1 4 7 4 8 5 8 5 5 2 5 9 0 7 1 4 7 3\n",
      " 4 8 9 7 9 8 2 1 5 2 5 8 4 1 7 0 6 1 5 5 9 9 5 9 9 5 7 5 6 2 8 6 9 6 1 5 1\n",
      " 5 9 9 1 5 3 6 1 8 9 8 7 6 7 6 5 6 0 8 8 9 9 6 1 0 4 1 6 3 8 6 7 4 9 6 3 0\n",
      " 3 3 3 0 7 7 5 7 8 0 7 1 9 6 4 5 0 1 4 6 4 3 3 0 9 5 9 2 8 4 2 1 6 8 9 2 4\n",
      " 9 3 7 6 2 3 3 1 6 9 3 6 3 3 2 0 7 6 1 1 9 7 2 7 8 5 5 7 5 3 3 7 2 7 5 5 7\n",
      " 0 9 1 6 5 9 7 4 3 8 0 3 6 4 6 3 2 6 8 8 8 4 6 7 5 2 4 5 3 2 4 6 9 4 5 4 3\n",
      " 4 6 2 9 0 1 7 2 0 9 6 0 4 2 0 7 9 8 5 7 8 2 8 4 3 7 2 6 9 9 5 1 0 8 2 8 9\n",
      " 5 6 2 2 7 2 1 5 1 6 4 5 0 9 4 1 1 7 0 8 9 0 5 4 3 8 8 6 5 3 4 4 4 8 8 7 0\n",
      " 9 6 3 5 2 3 0 8 8 3 1 3 3 0 0 4 6 0 7 7 6 2 0 4 4 2 3 7 1 9 8 6 8 5 6 2 2\n",
      " 3 1 7 7 8 0 3 3 2 1 5 5 9 1 3 7 0 0 3 0 4 5 8 9 3 4 3 1 8 9 8 3 6 3 1 6 2\n",
      " 1 7 5 5 1 9]\n"
     ]
    }
   ],
   "source": [
    "# Returns a NumPy Array\n",
    "# Predict for One Observation (image)\n",
    "print(logisticRegr.predict(x_test[0].reshape(1,-1)))\n",
    "print(logisticRegr.predict(x_test[0:10]))\n",
    "predictions = logisticRegr.predict(x_test)\n",
    "print(predictions)"
   ]
  },
  {
   "cell_type": "markdown",
   "metadata": {},
   "source": [
    "As can be seen, we have made a NumPy Array in which the predictions are stored. This however doesn't really tell us anything about whether our predictions are correct. To check this, we'll move over to model evaluation."
   ]
  },
  {
   "cell_type": "markdown",
   "metadata": {},
   "source": [
    "## 4.4 Model Evaluation"
   ]
  },
  {
   "cell_type": "markdown",
   "metadata": {},
   "source": [
    "### Evaluating Classification Models: Beyond Simple Accuracy ⚖️\n",
    "\n",
    "When evaluating regression models, we used metrics like R² and MSE. For classification, we need different tools.\n",
    "\n",
    "#### The Four Basic Outcomes 🧩\n",
    "\n",
    "In any classification task, there are four possible outcomes for each prediction:\n",
    "\n",
    "1. **True Positive (TP)** ✅\n",
    "   - We predicted: \"Yes, it's digit 7\"\n",
    "   - Reality: It is digit 7\n",
    "   - Example: Correctly identifying a cancer patient\n",
    "\n",
    "2. **True Negative (TN)** ✅\n",
    "   - We predicted: \"No, it's not digit 7\"\n",
    "   - Reality: It's not digit 7\n",
    "   - Example: Correctly identifying a healthy patient\n",
    "\n",
    "3. **False Positive (FP)** ❌\n",
    "   - We predicted: \"Yes, it's digit 7\"\n",
    "   - Reality: It's actually digit 1\n",
    "   - Example: False alarm (diagnosing healthy person with disease)\n",
    "   - Also called a \"Type I error\"\n",
    "\n",
    "4. **False Negative (FN)** ❌\n",
    "   - We predicted: \"No, it's not digit 7\"\n",
    "   - Reality: It actually is digit 7\n",
    "   - Example: Missing a diagnosis (failing to detect disease)\n",
    "   - Also called a \"Type II error\"\n",
    "\n",
    "These four outcomes are the building blocks for all our evaluation metrics!"
   ]
  },
  {
   "cell_type": "markdown",
   "metadata": {},
   "source": [
    "### Accuracy"
   ]
  },
  {
   "cell_type": "markdown",
   "metadata": {},
   "source": [
    "### Accuracy: The Most Intuitive Metric 🎯\n",
    "\n",
    "Accuracy is the simplest and most intuitive evaluation metric for classification models.\n",
    "\n",
    "#### What Is Accuracy? 📏\n",
    "Accuracy measures the percentage of predictions that are correct:\n",
    "\n",
    "$$\\text{Accuracy} = \\frac{\\text{Number of Correct Predictions}}{\\text{Total Number of Predictions}}$$\n",
    "\n",
    "Using our TP, TN, FP, FN terminology:\n",
    "\n",
    "$$\\text{Accuracy} = \\frac{\\text{TP + TN}}{\\text{TP + TN + FP + FN}}$$\n",
    "\n",
    "#### Real-World Example 🌍\n",
    "Imagine a digit recognition system for postal codes:\n",
    "- System processes 1,000 digits\n",
    "- Gets 950 correct, 50 wrong\n",
    "- Accuracy = 950 ÷ 1,000 = 95%\n",
    "\n",
    "#### When Accuracy Works Well ✅\n",
    "- Balanced classes (similar numbers of each category)\n",
    "- Equal importance of all types of errors\n",
    "\n",
    "#### When Accuracy Can Be Misleading ⚠️\n",
    "- Imbalanced classes (e.g., rare diseases, fraud detection)\n",
    "- Different costs for different types of errors\n",
    "\n",
    "For example: If 98% of emails are not spam, a model that predicts \"never spam\" would have 98% accuracy but be completely useless!\n",
    "\n",
    "Let's calculate our model's accuracy:"
   ]
  },
  {
   "cell_type": "code",
   "execution_count": 8,
   "metadata": {},
   "outputs": [
    {
     "name": "stdout",
     "output_type": "stream",
     "text": [
      "0.9533333333333334\n"
     ]
    }
   ],
   "source": [
    "test_pred = logisticRegr.predict(x_test)\n",
    "accuracy = accuracy_score(y_test, test_pred)\n",
    "print(accuracy)"
   ]
  },
  {
   "cell_type": "markdown",
   "metadata": {},
   "source": [
    "While this is the most intuitive way to calculate the accuracy, it does require and external function 'accuracy_score' and requires us to manually make some predictions. Instead we can calculate the accuracy of our logistic regression model in a way similar to calculating $R^2$ for linear regression:"
   ]
  },
  {
   "cell_type": "code",
   "execution_count": 9,
   "metadata": {},
   "outputs": [
    {
     "name": "stdout",
     "output_type": "stream",
     "text": [
      "0.9533333333333334\n"
     ]
    }
   ],
   "source": [
    "score = logisticRegr.score(x_test, y_test)\n",
    "print(score)"
   ]
  },
  {
   "cell_type": "markdown",
   "metadata": {},
   "source": [
    "##### Question 1: The code above will help us to calculate the score. Try to interpret the value we have gotten. Is our model any good?\n",
    "\n",
    "Accuraccy takes the correct prediction over the total predictions. In practice, this means it displays the percentage of our predcitions which is correct. In this case we have a score of 0.95, meaning a percentage of 95%. This means that 95% of our predictions are correct, which is a good score."
   ]
  },
  {
   "cell_type": "markdown",
   "metadata": {},
   "source": [
    "### Precision"
   ]
  },
  {
   "cell_type": "markdown",
   "metadata": {},
   "source": [
    "### Precision: When False Positives Matter 🔍\n",
    "\n",
    "Precision focuses on the quality of positive predictions. It answers the question: \"When we predict the positive class, how often are we right?\"\n",
    "\n",
    "#### What Is Precision? 📏\n",
    "Precision measures the accuracy of positive predictions:\n",
    "\n",
    "$$\\text{Precision} = \\frac{\\text{TP}}{\\text{TP + FP}}$$\n",
    "\n",
    "#### Real-World Example 🌍\n",
    "Imagine a spam filter:\n",
    "- Predicted 100 emails as spam\n",
    "- 90 were actually spam\n",
    "- 10 were important emails incorrectly flagged\n",
    "- Precision = 90 ÷ 100 = 90%\n",
    "\n",
    "#### When Precision Is Critical ⚠️\n",
    "- Email spam filters (don't want to miss important emails)\n",
    "- Criminal investigations (don't want to accuse innocent people)\n",
    "- Medical testing (don't want unnecessary treatments)\n",
    "\n",
    "High precision means: \"When we say it's positive, we're very confident!\"\n",
    "\n",
    "#### In Our Digit Recognition:\n",
    "For each digit (0-9), precision tells us: \"When we predict this is a '7', how often is it actually a '7'?\"\n",
    "\n",
    "Let's examine the precision for each digit:"
   ]
  },
  {
   "cell_type": "code",
   "execution_count": 10,
   "metadata": {},
   "outputs": [
    {
     "name": "stdout",
     "output_type": "stream",
     "text": [
      "              precision    recall  f1-score   support\n",
      "\n",
      "           0       1.00      1.00      1.00        37\n",
      "           1       0.91      0.93      0.92        43\n",
      "           2       0.98      0.93      0.95        44\n",
      "           3       0.91      0.96      0.93        45\n",
      "           4       0.97      0.97      0.97        38\n",
      "           5       0.98      0.96      0.97        48\n",
      "           6       1.00      0.98      0.99        52\n",
      "           7       0.98      0.96      0.97        48\n",
      "           8       0.91      0.90      0.91        48\n",
      "           9       0.90      0.96      0.93        47\n",
      "\n",
      "    accuracy                           0.95       450\n",
      "   macro avg       0.95      0.95      0.95       450\n",
      "weighted avg       0.95      0.95      0.95       450\n",
      "\n"
     ]
    }
   ],
   "source": [
    "print(classification_report(y_test, predictions))"
   ]
  },
  {
   "cell_type": "markdown",
   "metadata": {},
   "source": [
    "You can also calculate the global precision using the code below:"
   ]
  },
  {
   "cell_type": "code",
   "execution_count": 11,
   "metadata": {},
   "outputs": [
    {
     "name": "stdout",
     "output_type": "stream",
     "text": [
      "0.9541907627439542\n"
     ]
    }
   ],
   "source": [
    "print(precision_score(y_test, predictions, average='weighted'))"
   ]
  },
  {
   "cell_type": "markdown",
   "metadata": {},
   "source": [
    "##### Question 2: Does the precision of our model diminish its accuracy value or not? Explain based on the results we've become.\n",
    "\n",
    "The precision of a model does not necessarily diminish its accuracy, but it focuses on a different aspect of the model’s performance. While precision and accuracy are related, they measure different things, so a change in one doesn’t directly cause a change in the other.\n",
    "\n",
    "When looking at our data, we can see the accuracy and precision of the different labels are similar. This shows that they are related but do not diminish the accuracy."
   ]
  },
  {
   "cell_type": "markdown",
   "metadata": {},
   "source": [
    "### Recall and f1-score"
   ]
  },
  {
   "cell_type": "markdown",
   "metadata": {},
   "source": [
    "### Recall and Specificity: Different Sides of the Same Coin 🪙\n",
    "\n",
    "While precision focuses on quality of positive predictions, recall and specificity focus on coverage - how well we catch all instances of each class.\n",
    "\n",
    "#### What Is Recall? 🔄\n",
    "Recall (also called Sensitivity or True Positive Rate) measures how good we are at finding all positive cases:\n",
    "\n",
    "$$\\text{Recall} = \\frac{\\text{TP}}{\\text{TP + FN}}$$\n",
    "\n",
    "#### Real-World Example of Recall 🏥\n",
    "In medical diagnosis of a serious disease:\n",
    "- 100 patients actually have the disease\n",
    "- Our test correctly identifies 95 of them\n",
    "- We miss 5 cases\n",
    "- Recall = 95 ÷ 100 = 95%\n",
    "\n",
    "#### What Is Specificity? 🛡️\n",
    "Specificity (also called True Negative Rate) measures how good we are at avoiding false alarms:\n",
    "\n",
    "$$\\text{Specificity} = \\frac{\\text{TN}}{\\text{TN + FP}}$$\n",
    "\n",
    "#### Real-World Example of Specificity 👮\n",
    "In airport security screening:\n",
    "- 1,000 passengers don't have prohibited items\n",
    "- System correctly clears 950 without further search\n",
    "- 50 get unnecessarily searched\n",
    "- Specificity = 950 ÷ 1,000 = 95%\n",
    "\n",
    "#### When to Focus on Each 🎯\n",
    "- **High Recall Needed**: Cancer screening, fraud detection, terrorist identification\n",
    "  (Missing a true case is very costly)\n",
    "  \n",
    "- **High Specificity Needed**: Early screening tests, spam filtering\n",
    "  (False alarms are costly or annoying)\n",
    "\n",
    "#### F1 Score: Balancing Precision and Recall 🏆\n",
    "The F1 Score is a harmonic mean of precision and recall - a single metric to balance both concerns:\n",
    "\n",
    "$$\\text{F1 Score} = 2 \\times \\frac{\\text{Precision} \\times \\text{Recall}}{\\text{Precision} + \\text{Recall}} = \\frac{2 \\times \\text{TP}}{2 \\times \\text{TP + FP + FN}}$$\n",
    "\n",
    "Let's calculate these metrics:"
   ]
  },
  {
   "cell_type": "code",
   "execution_count": 12,
   "metadata": {},
   "outputs": [
    {
     "name": "stdout",
     "output_type": "stream",
     "text": [
      "0.9533333333333334\n"
     ]
    }
   ],
   "source": [
    "print(recall_score(y_test, predictions, average='weighted'))"
   ]
  },
  {
   "cell_type": "markdown",
   "metadata": {},
   "source": [
    "The sister of recall is called $Specificity$, or the $True$ $Negative$ $Rate$ (TNR). This metric calculates how well the model identifies negative instances. This is useful when you want a model where there are few False Positives. For example, when detecting fraud you do not want to falsely accuse someone. It is more more important to correctly identify people who do commit fraud, than those who do not. Have a look at the formula.\n",
    "\n",
    "$$Specificity = \\frac{\\text{TN}}{\\text{TN + FP}}$$\n",
    "\n",
    "Once again, you can easily calculate the global Specificity score in python as follows:"
   ]
  },
  {
   "cell_type": "code",
   "execution_count": 13,
   "metadata": {},
   "outputs": [
    {
     "name": "stdout",
     "output_type": "stream",
     "text": [
      "0.9947395539504216\n"
     ]
    }
   ],
   "source": [
    "print(specificity_score(y_test, predictions, average='weighted'))"
   ]
  },
  {
   "cell_type": "markdown",
   "metadata": {},
   "source": [
    "Lastly we have the $F1 Score$. This score brings a balance between Recall and Specificity, taking into account unbalanced classes. The formula gets a bit more complicated as follows:\n",
    "\n",
    "$$F1 Score = 2 * \\frac{\\text{Precision x Recall}}{\\text{Precision + Recall}}$$\n",
    "\n",
    "When writing this out and simplifying it, we get the following formula:\n",
    "\n",
    "$$F1 Score = 2 * \\frac{\\text{TP}}{\\text{TP + FP + FN}}$$\n",
    "\n",
    "Once again, you can easily calculate the global F1 Score in python as follows:"
   ]
  },
  {
   "cell_type": "code",
   "execution_count": 14,
   "metadata": {},
   "outputs": [
    {
     "name": "stdout",
     "output_type": "stream",
     "text": [
      "0.9535186251861827\n"
     ]
    }
   ],
   "source": [
    "print(f1_score(y_test, predictions, average='weighted'))"
   ]
  },
  {
   "cell_type": "markdown",
   "metadata": {},
   "source": [
    "### Confusion Matrix"
   ]
  },
  {
   "cell_type": "markdown",
   "metadata": {},
   "source": [
    "### The Confusion Matrix: Seeing the Full Picture 📊\n",
    "\n",
    "Sometimes numbers alone don't tell the whole story. The confusion matrix gives us a visual representation of our model's performance.\n",
    "\n",
    "#### What Is a Confusion Matrix? 🧩\n",
    "- A table showing predicted vs. actual class counts\n",
    "- Rows represent actual classes\n",
    "- Columns represent predicted classes\n",
    "- Perfect prediction = numbers only on the diagonal\n",
    "\n",
    "#### Reading a Confusion Matrix 📖\n",
    "For binary classification (e.g., disease/no disease):\n",
    "```\n",
    "                 | Predicted: NO | Predicted: YES\n",
    "-----------------+--------------+---------------\n",
    "Actual: NO       |      TN      |      FP\n",
    "-----------------+--------------+---------------\n",
    "Actual: YES      |      FN      |      TP\n",
    "```\n",
    "\n",
    "#### For Multiple Classes 🔢\n",
    "With 10 digits (0-9), we get a 10×10 matrix:\n",
    "- Diagonal elements = correct predictions\n",
    "- Off-diagonal elements = mistakes\n",
    "- Row i, column j = instances of digit i predicted as digit j\n",
    "\n",
    "#### Benefits of Confusion Matrices 🌟\n",
    "1. See which classes get confused with each other\n",
    "2. Identify specific weaknesses in your model\n",
    "3. Discover patterns in misclassifications\n",
    "4. Present results visually to non-technical audiences\n",
    "\n",
    "Let's generate and visualize our confusion matrix:"
   ]
  },
  {
   "cell_type": "code",
   "execution_count": 15,
   "metadata": {},
   "outputs": [
    {
     "name": "stdout",
     "output_type": "stream",
     "text": [
      "[[37  0  0  0  0  0  0  0  0  0]\n",
      " [ 0 40  0  0  0  0  0  0  2  1]\n",
      " [ 0  0 41  3  0  0  0  0  0  0]\n",
      " [ 0  0  0 43  0  0  0  0  1  1]\n",
      " [ 0  0  0  0 37  0  0  1  0  0]\n",
      " [ 0  0  0  0  0 46  0  0  0  2]\n",
      " [ 0  1  0  0  0  0 51  0  0  0]\n",
      " [ 0  0  0  1  1  0  0 46  0  0]\n",
      " [ 0  3  1  0  0  0  0  0 43  1]\n",
      " [ 0  0  0  0  0  1  0  0  1 45]]\n"
     ]
    }
   ],
   "source": [
    "cm = metrics.confusion_matrix(y_test, predictions)\n",
    "print(cm)"
   ]
  },
  {
   "cell_type": "markdown",
   "metadata": {},
   "source": [
    "Though perfectly readable, this is not the type of \"intuitive graphical representation\" you might want to present to illustrate your conclusions. Luckily, this is very handy to mark-up:"
   ]
  },
  {
   "cell_type": "code",
   "execution_count": 16,
   "metadata": {},
   "outputs": [
    {
     "data": {
      "image/png": "[encoded data removed]",
      "text/plain": [
       "<Figure size 1000x1000 with 2 Axes>"
      ]
     },
     "metadata": {},
     "output_type": "display_data"
    }
   ],
   "source": [
    "plt.figure(figsize=(10,10))\n",
    "sns.heatmap(cm, annot=True, fmt=\".3f\", linewidths=.5, square = True, cmap = 'Blues_r');\n",
    "plt.ylabel('Actual label');\n",
    "plt.xlabel('Predicted label');\n",
    "all_sample_title = 'Accuracy Score: {0}'.format(score)\n",
    "plt.title(all_sample_title, size = 15);"
   ]
  },
  {
   "cell_type": "markdown",
   "metadata": {},
   "source": [
    "##### Question 3: for which metric we discussed above, is the Confusion Matrix a graphical representation? Why?\n",
    "\n",
    "The confusion matrix can be used to calculate all metrics as it shows a complete list of all TP, TN, FP and FN values, but in general is a visual interface of accuracy. If we have a clear diagonal line of high values, out model has a high accuracy. If the values are spread out more, then the model has a low accuracy."
   ]
  },
  {
   "cell_type": "markdown",
   "metadata": {},
   "source": [
    "### Additional Illustrations\n",
    "\n",
    "Additional illustrations do exist (such as the ROC), but these are not always interesting nor possible for multiclass analysis. It might however be interesting to think about one illustration that will convince your audience you do know what you're talking about. For this, make question 4.\n",
    "\n",
    "##### Question 4: Go back and take a look at section 3.2, and the illustration we provided there. Try and adapt the code to represent 10 data points, and also include the predicted value."
   ]
  },
  {
   "cell_type": "code",
   "execution_count": 17,
   "metadata": {},
   "outputs": [
    {
     "data": {
      "image/png": "[encoded data removed]",
      "text/plain": [
       "<Figure size 2000x400 with 10 Axes>"
      ]
     },
     "metadata": {},
     "output_type": "display_data"
    }
   ],
   "source": [
    "plt.figure(figsize=(20,4))\n",
    "predictions = logisticRegr.predict(x_test[0:10])\n",
    "for index, (image, label) in enumerate(zip(x_test[0:10], y_test[0:10])):\n",
    "    plt.subplot(1, 10, index + 1)\n",
    "    plt.imshow(np.reshape(image, (8,8)), cmap=plt.cm.gray)\n",
    "    #prediction = logisticRegr.predict(label.reshape(1,-1))\n",
    "    plt.title(f'Value: {label}\\nPred: {predictions[index]}', fontsize = 20)"
   ]
  },
  {
   "cell_type": "markdown",
   "metadata": {},
   "source": [
    "## 4.5 Questions"
   ]
  },
  {
   "cell_type": "markdown",
   "metadata": {},
   "source": [
    "##### Question 1: See section 4.4\n",
    "\n",
    "##### Question 2: See section 4.4\n",
    "\n",
    "##### Question 3: See section 4.4\n",
    "\n",
    "##### Question 4: See section 4.4"
   ]
  },
  {
   "cell_type": "markdown",
   "metadata": {},
   "source": [
    "##### Question 5: \n",
    "Go back to section 3.3.2 and remember that we could include different options into our model. In this question we take a look at the \"solvers\", and their efficiency. A solver is an algorithm that is used to estimate and thus fit our desired functions. The option max_iter gives a maximum to how many iterations the algorithm may make (think: loops). Compare the precision and accuracy for the logistic regression model using different algorithms (lbfgs, saga, newton-cg) and different levels of max_iteration. Report on which algorithm achieves a desired level of accuracy and precision in the most efficient way (the least number of iterations)."
   ]
  },
  {
   "cell_type": "code",
   "execution_count": 18,
   "metadata": {},
   "outputs": [
    {
     "name": "stdout",
     "output_type": "stream",
     "text": [
      "Solving with lbfgs\n",
      "\tMax iterations 10\n",
      "\t\t 0.9577777777777777\n",
      "\tMax iterations 100\n",
      "\t\t 0.9511111111111111\n",
      "\tMax iterations 1000\n",
      "\t\t 0.9533333333333334\n",
      "\tMax iterations 10000\n",
      "\t\t 0.9533333333333334\n",
      "\tMax iterations 100000\n",
      "\t\t 0.9533333333333334\n",
      "Solving with saga\n",
      "\tMax iterations 10\n",
      "\t\t 0.9622222222222222\n",
      "\tMax iterations 100\n"
     ]
    },
    {
     "name": "stderr",
     "output_type": "stream",
     "text": [
      "/Users/koze/anaconda3/envs/jupyterlab-env/lib/python3.11/site-packages/sklearn/linear_model/_logistic.py:465: ConvergenceWarning: lbfgs failed to converge (status=1):\n",
      "STOP: TOTAL NO. OF ITERATIONS REACHED LIMIT.\n",
      "\n",
      "Increase the number of iterations (max_iter) or scale the data as shown in:\n",
      "    https://scikit-learn.org/stable/modules/preprocessing.html\n",
      "Please also refer to the documentation for alternative solver options:\n",
      "    https://scikit-learn.org/stable/modules/linear_model.html#logistic-regression\n",
      "  n_iter_i = _check_optimize_result(\n",
      "/Users/koze/anaconda3/envs/jupyterlab-env/lib/python3.11/site-packages/sklearn/linear_model/_logistic.py:465: ConvergenceWarning: lbfgs failed to converge (status=1):\n",
      "STOP: TOTAL NO. OF ITERATIONS REACHED LIMIT.\n",
      "\n",
      "Increase the number of iterations (max_iter) or scale the data as shown in:\n",
      "    https://scikit-learn.org/stable/modules/preprocessing.html\n",
      "Please also refer to the documentation for alternative solver options:\n",
      "    https://scikit-learn.org/stable/modules/linear_model.html#logistic-regression\n",
      "  n_iter_i = _check_optimize_result(\n",
      "/Users/koze/anaconda3/envs/jupyterlab-env/lib/python3.11/site-packages/sklearn/linear_model/_sag.py:348: ConvergenceWarning: The max_iter was reached which means the coef_ did not converge\n",
      "  warnings.warn(\n",
      "/Users/koze/anaconda3/envs/jupyterlab-env/lib/python3.11/site-packages/sklearn/linear_model/_sag.py:348: ConvergenceWarning: The max_iter was reached which means the coef_ did not converge\n",
      "  warnings.warn(\n"
     ]
    },
    {
     "name": "stdout",
     "output_type": "stream",
     "text": [
      "\t\t 0.9577777777777777\n",
      "\tMax iterations 1000\n"
     ]
    },
    {
     "name": "stderr",
     "output_type": "stream",
     "text": [
      "/Users/koze/anaconda3/envs/jupyterlab-env/lib/python3.11/site-packages/sklearn/linear_model/_sag.py:348: ConvergenceWarning: The max_iter was reached which means the coef_ did not converge\n",
      "  warnings.warn(\n"
     ]
    },
    {
     "name": "stdout",
     "output_type": "stream",
     "text": [
      "\t\t 0.9555555555555556\n",
      "\tMax iterations 10000\n",
      "\t\t 0.9555555555555556\n",
      "\tMax iterations 100000\n",
      "\t\t 0.9555555555555556\n",
      "Solving with newton-cg\n",
      "\tMax iterations 10\n",
      "\t\t 0.9533333333333334\n",
      "\tMax iterations 100\n",
      "\t\t 0.9555555555555556\n",
      "\tMax iterations 1000\n",
      "\t\t 0.9555555555555556\n",
      "\tMax iterations 10000\n"
     ]
    },
    {
     "name": "stderr",
     "output_type": "stream",
     "text": [
      "/Users/koze/anaconda3/envs/jupyterlab-env/lib/python3.11/site-packages/sklearn/utils/optimize.py:319: ConvergenceWarning: newton-cg failed to converge at loss = 0.010068479064978198. Increase the number of iterations.\n",
      "  warnings.warn(\n"
     ]
    },
    {
     "name": "stdout",
     "output_type": "stream",
     "text": [
      "\t\t 0.9555555555555556\n",
      "\tMax iterations 100000\n",
      "\t\t 0.9555555555555556\n"
     ]
    }
   ],
   "source": [
    "solvers = ['lbfgs', 'saga', 'newton-cg']\n",
    "iterations = [10, 100, 1000, 10000, 100000]\n",
    "\n",
    "for solver in solvers:\n",
    "    print ('Solving with', solver)\n",
    "    for max_iter in iterations:\n",
    "        print ('\\tMax iterations', max_iter)\n",
    "        logisticRegr = LogisticRegression(max_iter=max_iter, solver=solver)\n",
    "        logisticRegr.fit(x_train, y_train)\n",
    "        score = logisticRegr.score(x_test, y_test)\n",
    "        print('\\t\\t', score)"
   ]
  },
  {
   "cell_type": "markdown",
   "metadata": {},
   "source": [
    "While the models with a lower amount of iterations generally run faster, they often generate errors due to an unsufficient amount of loops. By calculating the values of all solvers, we can see that in this case 'saga' generates the best overall results. That being said, different models have different strength so if our dataset looks different (e.g. more dimensions, more data, ...) a different model might be better."
   ]
  }
 ],
 "metadata": {
  "kernelspec": {
   "display_name": "jupyterlab-env",
   "language": "python",
   "name": "python3"
  },
  "language_info": {
   "codemirror_mode": {
    "name": "ipython",
    "version": 3
   },
   "file_extension": ".py",
   "mimetype": "text/x-python",
   "name": "python",
   "nbconvert_exporter": "python",
   "pygments_lexer": "ipython3",
   "version": "3.11.11"
  }
 },
 "nbformat": 4,
 "nbformat_minor": 4
}
