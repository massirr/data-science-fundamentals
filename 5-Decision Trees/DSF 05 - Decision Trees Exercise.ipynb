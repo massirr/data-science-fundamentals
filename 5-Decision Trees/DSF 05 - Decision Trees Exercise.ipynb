{
 "cells": [
  {
   "cell_type": "markdown",
   "id": "d4e7f203",
   "metadata": {},
   "source": [
    "# Chapter 5: Decision Trees\n",
    "\n",
    "**Student Exercise Version**  \n",
    "Complete the exercises below. The solution notebook will be provided after one week."
   ]
  },
  {
   "cell_type": "code",
   "execution_count": null,
   "id": "e911b5a6",
   "metadata": {},
   "outputs": [],
   "source": [
    "low_memory=False\n",
    "\n",
    "import pandas as pd\n",
    "import matplotlib.pyplot as plt\n",
    "import imblearn\n",
    "\n",
    "import seaborn as sns\n",
    "from sklearn import metrics\n",
    "from sklearn.model_selection import train_test_split\n",
    "from sklearn.linear_model import LogisticRegression\n",
    "from sklearn.tree import DecisionTreeClassifier\n",
    "from sklearn.metrics import classification_report\n",
    "from sklearn.metrics import accuracy_score\n",
    "from sklearn.metrics import accuracy_score\n",
    "from imblearn.metrics import specificity_score\n",
    "from sklearn.metrics import recall_score\n",
    "from sklearn.metrics import precision_score\n",
    "from sklearn.metrics import f1_score"
   ]
  },
  {
   "cell_type": "markdown",
   "id": "808642c0",
   "metadata": {},
   "source": [
    "## 5.1 Introduction & Motivation\n",
    "\n",
    "Welcome to an exciting hands-on exploration of decision trees! In this exercise, we'll apply the theoretical concepts you've learned to solve a real-world classification problem with practical implications."
   ]
  },
  {
   "cell_type": "markdown",
   "id": "ee530bc1",
   "metadata": {},
   "source": [
    "We have already explored our first classification model (logistic regression), but the world of machine learning offers many more powerful algorithms to choose from. One of the most intuitive and interpretable of these is the **Decision Tree**.\n",
    "\n",
    "**How Decision Trees Work:**\n",
    "Decision trees mirror human decision-making by creating a hierarchical structure of questions. Starting at the **root node**, the algorithm systematically creates **internal nodes** (decision points) and **leaf nodes** (final predictions) by asking binary questions about the features in our data.\n",
    "\n",
    "**Real-World Example:**\n",
    "When predicting an animal's family, a decision tree might ask:\n",
    "- Root question: \"Does the animal have fur?\"\n",
    "  - If YES → \"Does it have four legs?\"\n",
    "    - If YES → \"Does it bark?\" → Dog/Cat classification\n",
    "    - If NO → \"Does it swing from trees?\" → Primate classification\n",
    "  - If NO → \"Does it have feathers?\" → Bird/Reptile classification\n",
    "\n",
    "Each **node** represents a decision point based on feature values, and each **branch** represents the outcome of that decision. This creates an easily interpretable set of rules that even non-technical stakeholders can understand and validate.\n",
    "\n",
    "**Key Advantages:**\n",
    "- **Transparency**: Every prediction can be traced through a clear path of decisions\n",
    "- **No data preprocessing**: Works with mixed data types without scaling or normalization\n",
    "- **Automatic feature selection**: Identifies the most important features for classification\n",
    "- **Handles non-linear relationships**: Can capture complex patterns that linear models miss"
   ]
  },
  {
   "cell_type": "markdown",
   "id": "4a8aebaa",
   "metadata": {},
   "source": [
    "## 5.2 Problem Setting: Wine Quality Assessment Challenge"
   ]
  },
  {
   "cell_type": "markdown",
   "id": "5e16ccde",
   "metadata": {},
   "source": [
    "The world of wine is fascinating and complex. Wine quality assessment typically requires years of training and expertise, with sommeliers spending decades honing their ability to detect subtle differences that distinguish exceptional wines from ordinary ones.\n",
    "\n",
    "**Our Challenge:**\n",
    "Today, we'll attempt to automate this expert knowledge using decision trees! Our goal is to predict wine quality based solely on its measurable chemical and physical properties. This represents a classic **multi-class classification problem** where we need to predict discrete quality ratings.\n",
    "\n",
    "**Dataset Overview:**\n",
    "- **Target Variable**: Wine quality scores ranging from 0 (lowest quality) to 10 (highest quality)\n",
    "- **Features**: Chemical and physical properties measurable through laboratory analysis\n",
    "- **Real-World Impact**: Such models could help wineries:\n",
    "  - Standardize quality control processes\n",
    "  - Identify key factors that influence wine quality\n",
    "  - Make data-driven decisions about production methods\n",
    "  - Provide objective quality assessments\n",
    "\n",
    "**Why This Problem Suits Decision Trees:**\n",
    "Wine quality assessment involves complex, non-linear relationships between chemical compounds. Decision trees excel at capturing these intricate patterns through their hierarchical question-answering approach, potentially mimicking how human experts mentally process multiple factors to reach quality judgments."
   ]
  },
  {
   "cell_type": "markdown",
   "id": "e5e9ac89",
   "metadata": {},
   "source": [
    "## 5.3 Data Exploration and Model Development\n",
    "\n",
    "Before building our decision tree, we need to thoroughly understand our dataset. Proper data exploration is crucial for making informed decisions about feature selection, preprocessing, and model configuration."
   ]
  },
  {
   "cell_type": "markdown",
   "id": "f3771c16",
   "metadata": {},
   "source": [
    "**Step 1: Initial Data Examination**\n",
    "\n",
    "Let's start by examining the structure and content of our wine quality dataset. Understanding the features and their potential relationships with quality will guide our modeling approach."
   ]
  },
  {
   "cell_type": "code",
   "execution_count": null,
   "id": "e015d18e",
   "metadata": {},
   "outputs": [],
   "source": [
    "df = pd.read_csv(\"Wine.csv\")\n",
    "df.head()"
   ]
  },
  {
   "cell_type": "markdown",
   "id": "5f3e7e91",
   "metadata": {},
   "source": [
    "##### Question 1: Examine the dataset above and identify any columns that will not contribute meaningful information to our wine quality prediction model. Provide your reasoning and implement the necessary data cleaning steps."
   ]
  },
  {
   "cell_type": "markdown",
   "id": "21fb081b",
   "metadata": {},
   "source": [
    "**Your Answer:**"
   ]
  },
  {
   "cell_type": "code",
   "execution_count": null,
   "id": "503dbdff",
   "metadata": {},
   "outputs": [],
   "source": [
    "# Your code here"
   ]
  },
  {
   "cell_type": "markdown",
   "id": "249f35eb",
   "metadata": {},
   "source": [
    "##### Question 2: Create a comprehensive correlation analysis using a heatmap visualization. Based on the correlation patterns, hypothesize which variables will have the strongest positive and negative impacts on wine quality. Justify your predictions using domain knowledge about wine chemistry."
   ]
  },
  {
   "cell_type": "code",
   "execution_count": null,
   "id": "ff137fbb",
   "metadata": {},
   "outputs": [],
   "source": [
    "# Your code here"
   ]
  },
  {
   "cell_type": "markdown",
   "id": "180bd070",
   "metadata": {},
   "source": [
    "**Your Analysis:**"
   ]
  },
  {
   "cell_type": "markdown",
   "id": "8e9330cd",
   "metadata": {},
   "source": [
    "##### Question 3: Implement the standard machine learning workflow by creating appropriate train-test splits and building your decision tree model. Use a 70/30 split for training and testing data, and ensure you're using all relevant features identified in your data cleaning process."
   ]
  },
  {
   "cell_type": "code",
   "execution_count": null,
   "id": "feeb1d97",
   "metadata": {},
   "outputs": [],
   "source": [
    "# Your code here"
   ]
  },
  {
   "cell_type": "markdown",
   "id": "9a38ee98",
   "metadata": {},
   "source": [
    "##### Question 4: Test your trained model's practical applicability by predicting the quality of a specific wine sample. Consider the wine with the characteristics shown below and interpret what quality rating your model assigns to it.\n",
    "\n",
    "**Wine Sample Analysis:**\n",
    "This wine sample represents a real-world scenario where you'd use your model to assess an unknown wine. Examine how the individual feature values might contribute to the final quality prediction.\n",
    "\n",
    "| fixed acidity | volatile acidity | citric acid | residual sugar | chlorides | free sulfur dioxide | total sulfur dioxide | density | pH | sulphates | alcohol | Id |\n",
    "| --- | --- | --- |--- | --- | --- | --- | --- | --- | --- | --- | --- |\n",
    "| 5.9 | 0.645 | 0.12 | 2.0 | 0.075 | 32.0 | 44.0 | 0.9954 | 3.57 | 0.71 | 10.2 | 178 |"
   ]
  },
  {
   "cell_type": "code",
   "execution_count": null,
   "id": "8b88c68e",
   "metadata": {},
   "outputs": [],
   "source": [
    "# Your code here"
   ]
  },
  {
   "cell_type": "markdown",
   "id": "9d430358",
   "metadata": {},
   "source": [
    "**Your Interpretation:**"
   ]
  },
  {
   "cell_type": "markdown",
   "id": "e03e2ea9",
   "metadata": {},
   "source": [
    "## 5.4 Comprehensive Model Evaluation\n",
    "\n",
    "Model performance evaluation is critical for understanding how well our decision tree generalizes to unseen data. We'll examine multiple metrics to gain a complete picture of our model's strengths and weaknesses."
   ]
  },
  {
   "cell_type": "markdown",
   "id": "253819d6",
   "metadata": {},
   "source": [
    "Predictions alone don't tell us much about our model's reliability. We need quantitative metrics to assess performance objectively and identify areas for improvement."
   ]
  },
  {
   "cell_type": "markdown",
   "id": "d1a9f117",
   "metadata": {},
   "source": [
    "##### Question 5: Calculate and interpret both accuracy and precision metrics for your model. Evaluate whether these performance scores indicate a reliable model for wine quality prediction. Support your analysis by explaining what these metrics mean in the context of our specific problem."
   ]
  },
  {
   "cell_type": "code",
   "execution_count": null,
   "id": "1c425a80",
   "metadata": {},
   "outputs": [],
   "source": [
    "# Your code here"
   ]
  },
  {
   "cell_type": "markdown",
   "id": "d7a050c9",
   "metadata": {},
   "source": [
    "**Your Analysis:**"
   ]
  },
  {
   "cell_type": "markdown",
   "id": "d2374fc4",
   "metadata": {},
   "source": [
    "##### Question 6: Create and analyze a confusion matrix visualization for your model. Explain how the visual patterns in this matrix confirm or contradict your accuracy and precision findings from the previous question."
   ]
  },
  {
   "cell_type": "code",
   "execution_count": null,
   "id": "e303e86b",
   "metadata": {},
   "outputs": [],
   "source": [
    "# Your code here"
   ]
  },
  {
   "cell_type": "markdown",
   "id": "b447c0dc",
   "metadata": {},
   "source": [
    "**Your Visual Analysis:**"
   ]
  },
  {
   "cell_type": "markdown",
   "id": "551552e7",
   "metadata": {},
   "source": [
    "##### Question 7: Investigate an important aspect of confusion matrix interpretation in multi-class problems. Analyze the relationship between the matrix indices and actual quality ratings, and explain why understanding label encoding is crucial for proper interpretation. \n",
    "\n",
    "**Investigation Hint:** Use pandas methods to examine the distribution of actual and predicted values, then consult the sklearn documentation to understand how confusion matrices handle class labels."
   ]
  },
  {
   "cell_type": "code",
   "execution_count": null,
   "id": "e9d4b2ab",
   "metadata": {},
   "outputs": [],
   "source": [
    "# Your investigation code here"
   ]
  },
  {
   "cell_type": "markdown",
   "id": "b7bae588",
   "metadata": {},
   "source": [
    "**Your Findings:**"
   ]
  },
  {
   "cell_type": "code",
   "execution_count": null,
   "id": "33e7a99c",
   "metadata": {},
   "outputs": [],
   "source": [
    "# Create a properly labeled confusion matrix here"
   ]
  },
  {
   "cell_type": "markdown",
   "id": "f9a47203",
   "metadata": {},
   "source": [
    "## 5.5 Advanced Topics and Model Optimization\n",
    "\n",
    "Now that we've established baseline performance, let's explore advanced concepts to improve our decision tree model and understand important algorithmic considerations."
   ]
  },
  {
   "cell_type": "markdown",
   "id": "e7047df3",
   "metadata": {},
   "source": [
    "##### Question 8: Investigate the complexity of your decision tree by determining how many hierarchical levels (depth) it has created. Research the appropriate method to extract this information and discuss why tree depth is an important consideration in decision tree modeling."
   ]
  },
  {
   "cell_type": "code",
   "execution_count": null,
   "id": "f37c01d0",
   "metadata": {},
   "outputs": [],
   "source": [
    "# Your code here"
   ]
  },
  {
   "cell_type": "markdown",
   "id": "aa834906",
   "metadata": {},
   "source": [
    "**Your Analysis:**"
   ]
  },
  {
   "cell_type": "markdown",
   "id": "3a6a52da",
   "metadata": {},
   "source": [
    "##### Question 9: Optimize your model's performance by systematically testing different maximum depth values. Create a comprehensive analysis by training models with depths ranging from 1 to 20, plot the accuracy scores, and identify the optimal depth that balances model complexity with performance. Retrain your final model using this optimal depth and report the improved metrics."
   ]
  },
  {
   "cell_type": "code",
   "execution_count": null,
   "id": "ecadea4c",
   "metadata": {},
   "outputs": [],
   "source": [
    "# Your code here"
   ]
  },
  {
   "cell_type": "markdown",
   "id": "68694aab",
   "metadata": {},
   "source": [
    "**Your Optimization Results:**"
   ]
  },
  {
   "cell_type": "markdown",
   "id": "9296b7e5",
   "metadata": {},
   "source": [
    "##### Question 10: Implement a comprehensive overfitting detection analysis. Calculate both training and testing accuracy for all depth values tested in Question 9, then create a visualization showing both curves. Analyze the results to identify clear signs of overfitting and determine if your chosen optimal depth from Question 9 still represents the best choice when considering overfitting patterns."
   ]
  },
  {
   "cell_type": "code",
   "execution_count": null,
   "id": "0b044699",
   "metadata": {},
   "outputs": [],
   "source": [
    "# Your code here"
   ]
  },
  {
   "cell_type": "markdown",
   "id": "85335031",
   "metadata": {},
   "source": [
    "**Your Overfitting Analysis:**"
   ]
  },
  {
   "cell_type": "markdown",
   "id": "7c83449e",
   "metadata": {},
   "source": [
    "##### Question 11: Explore ensemble learning by implementing Random Forest, an advanced variant of decision trees. Based on the [scikit-learn Random Forest documentation](https://scikit-learn.org/dev/modules/generated/sklearn.ensemble.RandomForestClassifier.html), create a Random Forest classifier and evaluate its performance. Compare the accuracy and precision with your optimized single decision tree and explain why ensemble methods often outperform individual models."
   ]
  },
  {
   "cell_type": "code",
   "execution_count": null,
   "id": "a1c73de8",
   "metadata": {},
   "outputs": [],
   "source": [
    "# Your code here"
   ]
  },
  {
   "cell_type": "markdown",
   "id": "3bc5011a",
   "metadata": {},
   "source": [
    "**Your Ensemble Analysis:**"
   ]
  },
  {
   "cell_type": "markdown",
   "id": "986d4a8f",
   "metadata": {},
   "source": [
    "##### Question 12: Conduct a theoretical analysis of overfitting susceptibility by comparing Random Forest to single decision trees. Research the underlying mechanisms of Random Forest algorithms and provide a comprehensive explanation of why ensemble methods are generally more robust against overfitting. Support your analysis with specific algorithmic features that contribute to this robustness."
   ]
  },
  {
   "cell_type": "markdown",
   "id": "8b216db1",
   "metadata": {},
   "source": [
    "**Your Theoretical Analysis:**"
   ]
  }
 ],
 "metadata": {
  "language_info": {
   "name": "python"
  }
 },
 "nbformat": 4,
 "nbformat_minor": 5
}
