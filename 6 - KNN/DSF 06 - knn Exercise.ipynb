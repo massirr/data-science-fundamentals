{
 "cells": [
  {
   "cell_type": "markdown",
   "id": "a026cb9f",
   "metadata": {},
   "source": [
    "# Chapter 6: k-Nearest Neighbors (k-NN)"
   ]
  },
  {
   "cell_type": "code",
   "execution_count": null,
   "id": "a774df94",
   "metadata": {},
   "outputs": [],
   "source": [
    "# Import required libraries\n",
    "# Your code here"
   ]
  },
  {
   "cell_type": "markdown",
   "id": "1cda7037",
   "metadata": {},
   "source": [
    "## 6.1 Introduction & Motivation"
   ]
  },
  {
   "cell_type": "markdown",
   "id": "1bd2b7ca",
   "metadata": {},
   "source": [
    "Now that we've explored two classification models, it's time to add a third one: k-NN or *k-nearest neighbors*. This model essentially works based on one simple question: **When looking at the *k* data points closest to me, which label occurs the most?**\n",
    "\n",
    "This model is easy to understand but can be tricky to tune, especially when it comes to finding the optimal value for k. In this exercise, you will put the model to the test, compare it to the ones you already know, and explore new ways to achieve the best evaluation!\n",
    "\n",
    "**Key insight**: k-NN is a \"lazy learning\" algorithm - it doesn't build an explicit model during training but makes predictions based on similarity to stored examples."
   ]
  },
  {
   "cell_type": "markdown",
   "id": "706c0059",
   "metadata": {},
   "source": [
    "## 6.2 Problem Setting"
   ]
  },
  {
   "cell_type": "markdown",
   "id": "acbe474b",
   "metadata": {},
   "source": [
    "After a war, dangerous equipment often gets left behind scattered across fields. Over time, these items can become buried in the earth and lost to time. However, at some point later, civilians sometimes discover still-live explosives, leading to dangerous situations. Here in Flanders, for example, farmers still find live mines from WWI when plowing their fields to this day.\n",
    "\n",
    "To combat this and remove as many dangerous items as possible, governments can take sonar scans of the ground. The dataset we are going to explore today contains a series of objects, each scanned 60 times with sonar from different angles. We are trying to predict whether a scanned object is an actual mine ('M') or a rock shaped like a mine ('R'). These values are stored in the 'Material' column.\n",
    "\n",
    "**Real-world context**: This is a classic example of where the cost of false negatives (missing an actual mine) is much higher than false positives (incorrectly identifying a rock as a mine)."
   ]
  },
  {
   "cell_type": "markdown",
   "id": "c9c50c6a",
   "metadata": {},
   "source": [
    "## 6.3 Model"
   ]
  },
  {
   "cell_type": "markdown",
   "id": "6220c174",
   "metadata": {},
   "source": [
    "First, let's examine the structure and characteristics of our sonar data:"
   ]
  },
  {
   "cell_type": "code",
   "execution_count": null,
   "id": "d10f501c",
   "metadata": {},
   "outputs": [],
   "source": [
    "# Load the Sonar.csv dataset and examine its structure\n",
    "# Your code here"
   ]
  },
  {
   "cell_type": "markdown",
   "id": "f0b972c9",
   "metadata": {},
   "source": [
    "##### Question 1: Try to plot a heatmap to further explore the data. Do you encounter any errors? Why does this happen? How can you solve this using a method we've already seen in previous chapters?\n",
    "\n",
    "**Hint**: Think about what type of data correlation matrices can work with and what the 'Material' column contains."
   ]
  },
  {
   "cell_type": "code",
   "execution_count": null,
   "id": "57989689",
   "metadata": {},
   "outputs": [],
   "source": [
    "# Try to create a heatmap - you should encounter an error\n",
    "# Your code here"
   ]
  },
  {
   "cell_type": "markdown",
   "id": "7abf5fee",
   "metadata": {},
   "source": [
    "**Explain the error you encountered and how to solve it:**\n",
    "\n",
    "*Your explanation here*"
   ]
  },
  {
   "cell_type": "code",
   "execution_count": null,
   "id": "1c9ad5cc",
   "metadata": {},
   "outputs": [],
   "source": [
    "# Fix the Material column by encoding categorical values as numerical\n",
    "# Your code here"
   ]
  },
  {
   "cell_type": "code",
   "execution_count": null,
   "id": "6770d808",
   "metadata": {},
   "outputs": [],
   "source": [
    "# Now create the heatmap successfully\n",
    "# Your code here"
   ]
  },
  {
   "cell_type": "markdown",
   "id": "ecf32ee3",
   "metadata": {},
   "source": [
    "##### Question 2: Analyze the data by examining the heatmap. Which variables would you expect to have the highest impact on Material prediction, and which ones would you expect to have the lowest impact? Explain your reasoning.\n",
    "\n",
    "**Analysis tip**: Look at the bottom row of the heatmap (or rightmost column) which shows correlations with the Material variable. Strong positive or negative correlations indicate higher predictive power."
   ]
  },
  {
   "cell_type": "markdown",
   "id": "65d177e8",
   "metadata": {},
   "source": [
    "**Your analysis:**\n",
    "\n",
    "Variables with high correlation to Material:\n",
    "- *Your answer here*\n",
    "\n",
    "Variables with low correlation to Material:\n",
    "- *Your answer here*\n",
    "\n",
    "Reasoning:\n",
    "*Your explanation here*"
   ]
  },
  {
   "cell_type": "markdown",
   "id": "c6bcfc35",
   "metadata": {},
   "source": [
    "##### Question 3: Build and train your k-NN model. Make sure to:\n",
    "- Keep some data aside for testing (use train-test split)\n",
    "- Exclude the target column ('Material') from your training features\n",
    "- Choose an appropriate test size and random state for reproducibility\n",
    "\n",
    "**Reminder**: The features (X) should contain all sonar measurements, while the target (y) should contain only the Material labels."
   ]
  },
  {
   "cell_type": "code",
   "execution_count": null,
   "id": "a8369def",
   "metadata": {},
   "outputs": [],
   "source": [
    "# Define features (X) and target (y)\n",
    "# Your code here"
   ]
  },
  {
   "cell_type": "code",
   "execution_count": null,
   "id": "90608387",
   "metadata": {},
   "outputs": [],
   "source": [
    "# Split the data and train the k-NN model\n",
    "# Your code here"
   ]
  },
  {
   "cell_type": "markdown",
   "id": "905a31ed",
   "metadata": {},
   "source": [
    "##### Question 4: Predict the materials for your test data. Analyze the distribution of predictions:\n",
    "- How many rocks are predicted in the test set?\n",
    "- How many mines are predicted in the test set?\n",
    "- Does this distribution seem reasonable given the problem context?\n",
    "\n",
    "**Analysis tip**: Use `.value_counts()` on your predictions to get a quick summary of the distribution."
   ]
  },
  {
   "cell_type": "code",
   "execution_count": null,
   "id": "f03575c8",
   "metadata": {},
   "outputs": [],
   "source": [
    "# Make predictions and analyze distribution\n",
    "# Your code here"
   ]
  },
  {
   "cell_type": "markdown",
   "id": "7cdb46fd",
   "metadata": {},
   "source": [
    "**Your analysis:**\n",
    "\n",
    "Number of rocks predicted: *Your answer here*\n",
    "\n",
    "Number of mines predicted: *Your answer here*\n",
    "\n",
    "Analysis of distribution: *Your interpretation here*"
   ]
  },
  {
   "cell_type": "markdown",
   "id": "e05acd8f",
   "metadata": {},
   "source": [
    "## 6.4 Model Evaluation"
   ]
  },
  {
   "cell_type": "markdown",
   "id": "d3406a0e",
   "metadata": {},
   "source": [
    "Of course, our predictions don't mean anything without knowing how accurate they are. Let's evaluate our model's performance using various metrics:"
   ]
  },
  {
   "cell_type": "markdown",
   "id": "2a26d692",
   "metadata": {},
   "source": [
    "##### Question 5: Evaluate your model's performance by calculating accuracy and precision. Is your model performing well? Provide a detailed analysis of what these metrics tell you about your model's effectiveness.\n",
    "\n",
    "**Key definitions**:\n",
    "- **Accuracy**: Overall percentage of correct predictions\n",
    "- **Precision**: Of all positive predictions (mines), how many were actually correct?"
   ]
  },
  {
   "cell_type": "code",
   "execution_count": null,
   "id": "2b1219a1",
   "metadata": {},
   "outputs": [],
   "source": [
    "# Calculate accuracy and precision\n",
    "# Your code here"
   ]
  },
  {
   "cell_type": "markdown",
   "id": "5648bc5e",
   "metadata": {},
   "source": [
    "**Your analysis:**\n",
    "\n",
    "Accuracy: *Your result and interpretation here*\n",
    "\n",
    "Precision: *Your result and interpretation here*\n",
    "\n",
    "Overall performance assessment: *Your evaluation here*"
   ]
  },
  {
   "cell_type": "markdown",
   "id": "2711a45f",
   "metadata": {},
   "source": [
    "##### Question 6: Create and analyze a confusion matrix to visually confirm your previous findings. What patterns do you observe? How does this matrix support or contradict your accuracy and precision calculations?\n",
    "\n",
    "**Confusion matrix reminder**: \n",
    "- Diagonal elements = correct predictions\n",
    "- Off-diagonal elements = incorrect predictions\n",
    "- For binary classification: [[TN, FP], [FN, TP]]"
   ]
  },
  {
   "cell_type": "code",
   "execution_count": null,
   "id": "cae658ca",
   "metadata": {},
   "outputs": [],
   "source": [
    "# Create and visualize confusion matrix\n",
    "# Your code here"
   ]
  },
  {
   "cell_type": "markdown",
   "id": "602ece49",
   "metadata": {},
   "source": [
    "**Your analysis of the confusion matrix:**\n",
    "\n",
    "Patterns observed: *Your observations here*\n",
    "\n",
    "How it supports/contradicts previous calculations: *Your analysis here*"
   ]
  },
  {
   "cell_type": "markdown",
   "id": "6363bba9",
   "metadata": {},
   "source": [
    "##### Question 7: Calculate the additional evaluation metrics we've studied (recall, specificity, F1-score). Analyze each metric - are they satisfactory? In this specific mine detection dataset, would you prefer high recall or high specificity? Justify your choice with the real-world implications.\n",
    "\n",
    "*Remember: We're working with a binary classification problem, not multiclass!*\n",
    "\n",
    "**Critical thinking**: Consider the consequences of false positives vs. false negatives in a mine detection scenario."
   ]
  },
  {
   "cell_type": "code",
   "execution_count": null,
   "id": "4b316ec6",
   "metadata": {},
   "outputs": [],
   "source": [
    "# Calculate recall, specificity, and F1-score\n",
    "# Your code here"
   ]
  },
  {
   "cell_type": "markdown",
   "id": "80c5fd96",
   "metadata": {},
   "source": [
    "**Your analysis:**\n",
    "\n",
    "Recall: *Your result and interpretation here*\n",
    "\n",
    "Specificity: *Your result and interpretation here*\n",
    "\n",
    "F1-score: *Your result and interpretation here*\n",
    "\n",
    "Which metric is more important for mine detection? *Your choice and justification here*\n",
    "\n",
    "Real-world implications: *Your explanation of consequences here*"
   ]
  },
  {
   "cell_type": "markdown",
   "id": "cf3cd41b",
   "metadata": {},
   "source": [
    "## 6.5 Questions"
   ]
  },
  {
   "cell_type": "markdown",
   "id": "1173d6eb",
   "metadata": {},
   "source": [
    "##### Question 8: By default, scikit-learn uses k=5 as the number of nearest neighbors. Find the optimal value by plotting accuracy across a range of possible k values. What patterns do you observe?\n",
    "\n",
    "**Hyperparameter tuning**: This process of finding the best parameter values is crucial for model optimization."
   ]
  },
  {
   "cell_type": "code",
   "execution_count": null,
   "id": "5d35a382",
   "metadata": {},
   "outputs": [],
   "source": [
    "# Test different k values and plot accuracy\n",
    "# Your code here"
   ]
  },
  {
   "cell_type": "markdown",
   "id": "ab9d92d5",
   "metadata": {},
   "source": [
    "**Your observations:**\n",
    "\n",
    "Optimal k value: *Your finding here*\n",
    "\n",
    "Patterns observed: *Your analysis here*"
   ]
  },
  {
   "cell_type": "markdown",
   "id": "efe324cc",
   "metadata": {},
   "source": [
    "##### Question 9: Repeat the analysis for the metric you want to maximize (recall, based on your previous analysis). Does your preferred value for k change? Which k value would be 'best' overall for this dataset?\n",
    "\n",
    "**Strategy**: Since recall is most important for mine detection, we should optimize for recall rather than just accuracy."
   ]
  },
  {
   "cell_type": "code",
   "execution_count": null,
   "id": "1abbc260",
   "metadata": {},
   "outputs": [],
   "source": [
    "# Test different k values optimizing for recall\n",
    "# Your code here"
   ]
  },
  {
   "cell_type": "markdown",
   "id": "0a46ec81",
   "metadata": {},
   "source": [
    "**Your analysis:**\n",
    "\n",
    "Optimal k for recall: *Your finding here*\n",
    "\n",
    "Does k change when optimizing for recall vs accuracy? *Your comparison here*\n",
    "\n",
    "Best overall k value: *Your recommendation with justification*"
   ]
  },
  {
   "cell_type": "markdown",
   "id": "68f704b9",
   "metadata": {},
   "source": [
    "##### Question 10: Train logistic regression, decision tree, and random forest models on this same data. Optimize each model using techniques from previous lessons to find the best possible performance. Compare all models - which do you prefer overall?\n",
    "\n",
    "**Comparative analysis**: This will help you understand which algorithm works best for this specific problem and dataset characteristics."
   ]
  },
  {
   "cell_type": "code",
   "execution_count": null,
   "id": "55e94991",
   "metadata": {},
   "outputs": [],
   "source": [
    "# Import additional model classes\n",
    "# Your code here"
   ]
  },
  {
   "cell_type": "code",
   "execution_count": null,
   "id": "69d506a6",
   "metadata": {},
   "outputs": [],
   "source": [
    "# Optimize logistic regression\n",
    "# Your code here"
   ]
  },
  {
   "cell_type": "code",
   "execution_count": null,
   "id": "821b2888",
   "metadata": {},
   "outputs": [],
   "source": [
    "# Optimize decision tree\n",
    "# Your code here"
   ]
  },
  {
   "cell_type": "code",
   "execution_count": null,
   "id": "8b0de592",
   "metadata": {},
   "outputs": [],
   "source": [
    "# Optimize random forest\n",
    "# Your code here"
   ]
  },
  {
   "cell_type": "code",
   "execution_count": null,
   "id": "b48d2389",
   "metadata": {},
   "outputs": [],
   "source": [
    "# Compare all models with optimal parameters\n",
    "# Your code here"
   ]
  },
  {
   "cell_type": "markdown",
   "id": "eb8b8aef",
   "metadata": {},
   "source": [
    "**Your model comparison:**\n",
    "\n",
    "Best performing model: *Your choice here*\n",
    "\n",
    "Justification: *Why this model works best for this dataset*\n",
    "\n",
    "Performance summary: *Brief comparison of all models*"
   ]
  },
  {
   "cell_type": "markdown",
   "id": "2eacc12f",
   "metadata": {},
   "source": [
    "##### Question 11: Our current evaluation might be biased because the test set we're using may not properly represent the entire dataset, potentially unfairly favoring one model. A way to address this is called **cross-validation**. Research this method and implement 10-fold cross-validation. Does the outcome you found above change?\n",
    "\n",
    "**Cross-validation benefits**:\n",
    "- More robust evaluation by using multiple train/test splits\n",
    "- Reduces dependence on a single random split\n",
    "- Provides better estimate of model generalization performance"
   ]
  },
  {
   "cell_type": "code",
   "execution_count": null,
   "id": "1c9af5af",
   "metadata": {},
   "outputs": [],
   "source": [
    "# Implement 10-fold cross-validation for all models\n",
    "# Your code here"
   ]
  },
  {
   "cell_type": "markdown",
   "id": "51da2064",
   "metadata": {},
   "source": [
    "**Your cross-validation analysis:**\n",
    "\n",
    "Best model with cross-validation: *Your finding here*\n",
    "\n",
    "Did the outcome change? *Comparison with previous results*\n",
    "\n",
    "Why cross-validation provides better evaluation: *Your explanation here*\n",
    "\n",
    "Final recommendation: *Which model to use in production and why*"
   ]
  }
 ],
 "metadata": {
  "language_info": {
   "name": "python"
  }
 },
 "nbformat": 4,
 "nbformat_minor": 5
}
